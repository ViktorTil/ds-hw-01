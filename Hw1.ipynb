{
  "cells": [
    {
      "cell_type": "code",
      "execution_count": 21,
      "metadata": {
        "colab": {
          "base_uri": "https://localhost:8080/"
        },
        "id": "z9g87_kyAnL4",
        "outputId": "fa344410-6bcc-453e-c225-f5b97e686af1"
      },
      "outputs": [
        {
          "name": "stdout",
          "output_type": "stream",
          "text": [
            "A = [ 1.  2.  3.  4.  5.  6.  7.  8.  9. 10.]\n"
          ]
        }
      ],
      "source": [
        "import numpy as np\n",
        "##1##\n",
        "a = np.linspace(1, 10, num=10)\n",
        "print(f\"A = {a}\")"
      ]
    },
    {
      "cell_type": "code",
      "execution_count": 3,
      "metadata": {
        "colab": {
          "base_uri": "https://localhost:8080/"
        },
        "id": "DODThoFBApEW",
        "outputId": "6231a723-fe64-436d-ff5b-b23df324922f"
      },
      "outputs": [
        {
          "name": "stdout",
          "output_type": "stream",
          "text": [
            "B = [[0 0 0]\n",
            " [0 0 0]\n",
            " [0 0 0]]\n"
          ]
        }
      ],
      "source": [
        "##2##\n",
        "b = np.zeros((3, 3), dtype=int)\n",
        "print(f\"B = {b}\")"
      ]
    },
    {
      "cell_type": "code",
      "execution_count": 4,
      "metadata": {
        "colab": {
          "base_uri": "https://localhost:8080/"
        },
        "id": "W_rDJrbRBEgP",
        "outputId": "4f9ec8de-9f54-4314-b2e7-7dacc15d90e4"
      },
      "outputs": [
        {
          "name": "stdout",
          "output_type": "stream",
          "text": [
            "A = [[7 8 5 3 6]\n",
            " [4 9 8 6 8]\n",
            " [5 0 2 2 2]\n",
            " [6 1 8 8 3]\n",
            " [6 2 9 5 2]]\n"
          ]
        }
      ],
      "source": [
        "##3##\n",
        "rng = np.random.default_rng()\n",
        "a = rng.integers(10, size=(5, 5))\n",
        "print(f\"A = {a}\")"
      ]
    },
    {
      "cell_type": "code",
      "execution_count": 5,
      "metadata": {
        "id": "Vh-Ub12KBQbj"
      },
      "outputs": [
        {
          "name": "stdout",
          "output_type": "stream",
          "text": [
            "B = [[0.42311002 0.35580662 0.51931874 0.98537037]\n",
            " [0.90829919 0.83340147 0.53357643 0.4779764 ]\n",
            " [0.20149529 0.41743371 0.7945148  0.69403878]\n",
            " [0.83146216 0.90228447 0.12103204 0.29233021]]\n"
          ]
        }
      ],
      "source": [
        "##4##\n",
        "b = np.random.random((4, 4))\n",
        "print(f\"B = {b}\")"
      ]
    },
    {
      "cell_type": "code",
      "execution_count": 6,
      "metadata": {
        "colab": {
          "base_uri": "https://localhost:8080/"
        },
        "id": "bf-mGcnaBTub",
        "outputId": "95ff782f-a88f-4d65-a5a2-9402ba634d12"
      },
      "outputs": [
        {
          "name": "stdout",
          "output_type": "stream",
          "text": [
            "A = [1 0 9 7 1]\n",
            "B = [9 0 9 8 2]\n",
            "A+B = [10  0 18 15  3]\n",
            "A-B = [-8  0  0 -1 -1]\n",
            "A*B = [ 9  0 81 56  2]\n"
          ]
        }
      ],
      "source": [
        "##5##\n",
        "rng = np.random.default_rng()\n",
        "a = rng.integers(10, size=(5,))\n",
        "b = rng.integers(10, size=(5,))\n",
        "print(f\"A = {a}\")\n",
        "print(f\"B = {b}\")\n",
        "print(f\"A+B = {a+b}\")\n",
        "print(f\"A-B = {a-b}\")\n",
        "print(f\"A*B = {a*b}\")"
      ]
    },
    {
      "cell_type": "code",
      "execution_count": 7,
      "metadata": {
        "colab": {
          "base_uri": "https://localhost:8080/"
        },
        "id": "Z1EuIQOQBYTS",
        "outputId": "66dca9cb-a50d-4ce1-8e7d-ab5d343c6624"
      },
      "outputs": [
        {
          "name": "stdout",
          "output_type": "stream",
          "text": [
            "A = [0 2 8 5 0 6 6]\n",
            "B = [0 9 3 2 2 3 5]\n",
            "scalar(A*B) = 100\n"
          ]
        }
      ],
      "source": [
        "##6##\n",
        "a = rng.integers(10, size=(7,))\n",
        "b = rng.integers(10, size=(7,))\n",
        "print(f\"A = {a}\")\n",
        "print(f\"B = {b}\")\n",
        "print(f\"scalar(A*B) = {np.dot(a,b)}\")"
      ]
    },
    {
      "cell_type": "code",
      "execution_count": 8,
      "metadata": {
        "id": "jDb4tyz2BfoK"
      },
      "outputs": [
        {
          "name": "stdout",
          "output_type": "stream",
          "text": [
            "A = [[3 3]\n",
            " [1 0]]\n",
            "B = [[2 9 3]\n",
            " [2 3 4]]\n",
            "A*B = [[12 36 21]\n",
            " [ 2  9  3]]\n"
          ]
        }
      ],
      "source": [
        "##7##\n",
        "a = rng.integers(10, size=(2,2))\n",
        "b = rng.integers(10, size=(2,3))\n",
        "print(f\"A = {a}\")\n",
        "print(f\"B = {b}\")\n",
        "print(f\"A*B = {np.dot(a,b)}\")"
      ]
    },
    {
      "cell_type": "code",
      "execution_count": 9,
      "metadata": {
        "id": "IGXkP5uKBjDU"
      },
      "outputs": [
        {
          "name": "stdout",
          "output_type": "stream",
          "text": [
            "A = [[5 7 5]\n",
            " [1 1 8]\n",
            " [5 4 0]]\n",
            "A_inv = [[-0.27826087  0.17391304  0.44347826]\n",
            " [ 0.34782609 -0.2173913  -0.30434783]\n",
            " [-0.00869565  0.13043478 -0.0173913 ]]\n",
            "scalar(A*A_inv) = [[ 1.00000000e+00 -2.77555756e-17 -1.31838984e-16]\n",
            " [-5.55111512e-17  1.00000000e+00 -5.55111512e-17]\n",
            " [-4.44089210e-16  0.00000000e+00  1.00000000e+00]]\n"
          ]
        }
      ],
      "source": [
        "##8##\n",
        "a = rng.integers(10, size=(3,3))\n",
        "print(f\"A = {a}\")\n",
        "a_inv = np.linalg.inv(a)\n",
        "print(f\"A_inv = {a_inv}\")\n",
        "print(f\"scalar(A*A_inv) = {np.dot(a, a_inv)}\")"
      ]
    },
    {
      "cell_type": "code",
      "execution_count": 10,
      "metadata": {
        "id": "SSFaKQ3mBpXv"
      },
      "outputs": [
        {
          "name": "stdout",
          "output_type": "stream",
          "text": [
            "A = [[0.35040325 0.96852625 0.68649386 0.5558446 ]\n",
            " [0.32635458 0.79015947 0.007963   0.66255103]\n",
            " [0.0834847  0.67978515 0.30956942 0.56223988]\n",
            " [0.50563625 0.7516458  0.29586401 0.62269763]]\n",
            "A.T = [[0.35040325 0.32635458 0.0834847  0.50563625]\n",
            " [0.96852625 0.79015947 0.67978515 0.7516458 ]\n",
            " [0.68649386 0.007963   0.30956942 0.29586401]\n",
            " [0.5558446  0.66255103 0.56223988 0.62269763]]\n"
          ]
        }
      ],
      "source": [
        "##9##\n",
        "a = np.random.random((4, 4))\n",
        "print(f\"A = {a}\")\n",
        "print(f\"A.T = {a.T}\")"
      ]
    },
    {
      "cell_type": "code",
      "execution_count": 11,
      "metadata": {
        "id": "IhjpO2tWBsdc"
      },
      "outputs": [
        {
          "name": "stdout",
          "output_type": "stream",
          "text": [
            "A = [[0 3 4 6]\n",
            " [3 1 3 6]\n",
            " [2 4 2 4]]\n",
            "B = [6 3 9 1]\n",
            "A*B = [[ 0  9 36  6]\n",
            " [18  3 27  6]\n",
            " [12 12 18  4]]\n",
            "scalar(a*b) = [51 54 46]\n"
          ]
        }
      ],
      "source": [
        "##10##\n",
        "a = rng.integers(10, size=(3,4))\n",
        "b = rng.integers(10, size=(4,))\n",
        "print(f\"A = {a}\")\n",
        "print(f\"B = {b}\")\n",
        "print(f\"A*B = {a*b}\")\n",
        "print(f\"scalar(a*b) = {np.dot(a,b)}\")"
      ]
    },
    {
      "cell_type": "code",
      "execution_count": 12,
      "metadata": {
        "id": "SlQ7yVZnBwLu"
      },
      "outputs": [
        {
          "name": "stdout",
          "output_type": "stream",
          "text": [
            "A = [[0.28458895 0.06124685 0.18729649]\n",
            " [0.4120767  0.5401774  0.15745245]]\n",
            "B = [0.64319738 0.57709467 0.22455136]\n",
            "A*B = [[0.18304687 0.03534523 0.04205768]\n",
            " [0.26504665 0.3117335  0.03535616]]\n",
            "scalar(A*B) = [0.26044978 0.61213631]\n"
          ]
        }
      ],
      "source": [
        "##11##\n",
        "a = np.random.random((2, 3))\n",
        "b = np.random.random((3,))\n",
        "print(f\"A = {a}\")\n",
        "print(f\"B = {b}\")\n",
        "print(f\"A*B = {a*b}\")\n",
        "print(f\"scalar(A*B) = {np.dot(a,b)}\")"
      ]
    },
    {
      "cell_type": "code",
      "execution_count": 13,
      "metadata": {
        "id": "NaO2CKFDBzzx"
      },
      "outputs": [
        {
          "name": "stdout",
          "output_type": "stream",
          "text": [
            "A = [[3 6]\n",
            " [9 6]]\n",
            "B = [[6 9]\n",
            " [0 7]]\n",
            "A*B = [[18 54]\n",
            " [ 0 42]]\n"
          ]
        }
      ],
      "source": [
        "##12##\n",
        "a = rng.integers(10, size=(2,2))\n",
        "b = rng.integers(10, size=(2,2))\n",
        "print(f\"A = {a}\")\n",
        "print(f\"B = {b}\")\n",
        "print(f\"A*B = {a*b}\")"
      ]
    },
    {
      "cell_type": "code",
      "execution_count": 14,
      "metadata": {
        "id": "l2lPSo1SB2vf"
      },
      "outputs": [
        {
          "name": "stdout",
          "output_type": "stream",
          "text": [
            "A = [[ 4 86]\n",
            " [ 6 54]]\n",
            "B = [[24 50]\n",
            " [18 59]]\n",
            "A*B = [[  96 4300]\n",
            " [ 108 3186]]\n",
            "scalar(A*B) = [[1644 5274]\n",
            " [1116 3486]]\n"
          ]
        }
      ],
      "source": [
        "##13##\n",
        "a = rng.integers(100, size=(2,2))\n",
        "b = rng.integers(100, size=(2,2))\n",
        "print(f\"A = {a}\")\n",
        "print(f\"B = {b}\")\n",
        "print(f\"A*B = {a*b}\")\n",
        "print(f\"scalar(A*B) = {np.dot(a,b)}\")"
      ]
    },
    {
      "cell_type": "code",
      "execution_count": 15,
      "metadata": {
        "id": "FpFre_ozB6F1"
      },
      "outputs": [
        {
          "name": "stdout",
          "output_type": "stream",
          "text": [
            "A = [[ 3 54 33 16 21]\n",
            " [67 18 30 92 49]\n",
            " [40 47  5 72 79]\n",
            " [ 7 51 28 73  1]\n",
            " [11 26 12 19 12]]\n",
            "∑A= 866\n"
          ]
        }
      ],
      "source": [
        "##14##\n",
        "a = rng.integers(100, size=(5,5))\n",
        "print(f\"A = {a}\")\n",
        "b=np.array(u\"\\u2211\", dtype=\"U\")\n",
        "print(f\"{b}A= {a.sum()}\")"
      ]
    },
    {
      "cell_type": "code",
      "execution_count": 16,
      "metadata": {
        "id": "030KNCgrB9P7"
      },
      "outputs": [
        {
          "name": "stdout",
          "output_type": "stream",
          "text": [
            "A = [[9 8 6 1]\n",
            " [5 7 2 3]\n",
            " [5 8 9 4]\n",
            " [1 6 0 1]]\n",
            "B = [[4 2 3 8]\n",
            " [5 6 2 3]\n",
            " [0 2 8 2]\n",
            " [5 1 4 9]]\n",
            "A-B = [[ 5  6  3 -7]\n",
            " [ 0  1  0  0]\n",
            " [ 5  6  1  2]\n",
            " [-4  5 -4 -8]]\n"
          ]
        }
      ],
      "source": [
        "##15##\n",
        "a = rng.integers(10, size=(4,4))\n",
        "b = rng.integers(10, size=(4,4))\n",
        "print(f\"A = {a}\")\n",
        "print(f\"B = {b}\")\n",
        "print(f\"A-B = {a-b}\")"
      ]
    },
    {
      "cell_type": "code",
      "execution_count": 17,
      "metadata": {
        "colab": {
          "base_uri": "https://localhost:8080/"
        },
        "id": "DzRJzJKRCBhJ",
        "outputId": "9079e53e-ffb5-4e18-f94d-c55123065084"
      },
      "outputs": [
        {
          "name": "stdout",
          "output_type": "stream",
          "text": [
            "A = [[0.33357686 0.72750963 0.3176383 ]\n",
            " [0.13041321 0.7051841  0.49322254]\n",
            " [0.72616805 0.17777209 0.08186132]]\n",
            "[1. 1. 1.]\n",
            "scalar(A*B) = [1.3787248  1.32881985 0.98580146]\n"
          ]
        }
      ],
      "source": [
        "##16##\n",
        "a = np.random.random((3, 3))\n",
        "b = np.random.random((3,))\n",
        "print(f\"A = {a}\")\n",
        "b = np.ones((3,), dtype=float)\n",
        "print(b)\n",
        "print(f\"scalar(A*B) = {np.dot(a,b)}\")"
      ]
    },
    {
      "cell_type": "code",
      "execution_count": 18,
      "metadata": {
        "id": "N0wUYvv8CIl1"
      },
      "outputs": [
        {
          "name": "stdout",
          "output_type": "stream",
          "text": [
            "A = [[3 1 6 5]\n",
            " [1 8 9 8]\n",
            " [7 6 4 7]]\n",
            "A*A = [[ 9  1 36 25]\n",
            " [ 1 64 81 64]\n",
            " [49 36 16 49]]\n"
          ]
        }
      ],
      "source": [
        "##17##\n",
        "a = rng.integers(10, size=(3,4))\n",
        "print(f\"A = {a}\")\n",
        "print(f\"A*A = {a*a}\")"
      ]
    },
    {
      "cell_type": "code",
      "execution_count": 19,
      "metadata": {
        "colab": {
          "base_uri": "https://localhost:8080/"
        },
        "id": "HNEaIQwjCLiL",
        "outputId": "add78cc4-e3a9-4b6a-efdd-82c211f4690d"
      },
      "outputs": [
        {
          "name": "stdout",
          "output_type": "stream",
          "text": [
            "A = [ 4 14 13 14]\n",
            "sqrt(A) = [2.         3.74165739 3.60555128 3.74165739]\n"
          ]
        }
      ],
      "source": [
        "a = rng.integers(50, size=(4,))\n",
        "print(f\"A = {a}\")\n",
        "b =np.sqrt(a)\n",
        "print(f\"sqrt(A) = {b}\")"
      ]
    }
  ],
  "metadata": {
    "colab": {
      "provenance": []
    },
    "kernelspec": {
      "display_name": "Python 3",
      "name": "python3"
    },
    "language_info": {
      "codemirror_mode": {
        "name": "ipython",
        "version": 3
      },
      "file_extension": ".py",
      "mimetype": "text/x-python",
      "name": "python",
      "nbconvert_exporter": "python",
      "pygments_lexer": "ipython3",
      "version": "3.11.4"
    }
  },
  "nbformat": 4,
  "nbformat_minor": 0
}
